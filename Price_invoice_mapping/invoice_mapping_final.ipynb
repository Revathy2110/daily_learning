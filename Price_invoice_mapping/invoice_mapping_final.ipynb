{
 "cells": [
  {
   "cell_type": "code",
   "execution_count": 0,
   "metadata": {
    "application/vnd.databricks.v1+cell": {
     "cellMetadata": {
      "byteLimit": 2048000,
      "rowLimit": 10000
     },
     "inputWidgets": {},
     "nuid": "54eb5704-84e5-48d6-a033-21d03aea5922",
     "showTitle": false,
     "tableResultSettingsMap": {},
     "title": ""
    }
   },
   "outputs": [],
   "source": [
    "%run ./invoice_mapping"
   ]
  },
  {
   "cell_type": "markdown",
   "metadata": {
    "application/vnd.databricks.v1+cell": {
     "cellMetadata": {},
     "inputWidgets": {},
     "nuid": "aaf8ad4c-77d1-4180-b136-55d8176dd02c",
     "showTitle": false,
     "tableResultSettingsMap": {},
     "title": ""
    }
   },
   "source": [
    "**final**"
   ]
  },
  {
   "cell_type": "code",
   "execution_count": 0,
   "metadata": {
    "application/vnd.databricks.v1+cell": {
     "cellMetadata": {
      "byteLimit": 2048000,
      "rowLimit": 10000
     },
     "inputWidgets": {},
     "nuid": "da9b2d35-3ce1-4ab4-bb53-e312154c7f48",
     "showTitle": false,
     "tableResultSettingsMap": {},
     "title": ""
    }
   },
   "outputs": [],
   "source": [
    "# df_price.filter(col(\"product_code\") == \"BEK455310M\").display()"
   ]
  },
  {
   "cell_type": "code",
   "execution_count": 0,
   "metadata": {
    "application/vnd.databricks.v1+cell": {
     "cellMetadata": {
      "byteLimit": 2048000,
      "rowLimit": 10000
     },
     "inputWidgets": {},
     "nuid": "776fbfb3-4894-401e-9ab0-bfa5602fea11",
     "showTitle": true,
     "tableResultSettingsMap": {},
     "title": "combining two dataframe"
    }
   },
   "outputs": [],
   "source": [
    "df_union = df_month_joined.union(df_week_joined)\n",
    "# display(df_union)"
   ]
  },
  {
   "cell_type": "code",
   "execution_count": 0,
   "metadata": {
    "application/vnd.databricks.v1+cell": {
     "cellMetadata": {
      "byteLimit": 2048000,
      "rowLimit": 10000
     },
     "inputWidgets": {},
     "nuid": "88ec5ab7-6952-47e8-ac8a-4b50bc37fb1d",
     "showTitle": false,
     "tableResultSettingsMap": {},
     "title": ""
    }
   },
   "outputs": [],
   "source": [
    "df_month_count = df_month_joined.count()\n",
    "display(df_month_count)"
   ]
  },
  {
   "cell_type": "code",
   "execution_count": 0,
   "metadata": {
    "application/vnd.databricks.v1+cell": {
     "cellMetadata": {
      "byteLimit": 2048000,
      "rowLimit": 10000
     },
     "inputWidgets": {},
     "nuid": "b903aca0-2963-4e0c-aad6-4562c994cd33",
     "showTitle": false,
     "tableResultSettingsMap": {},
     "title": ""
    }
   },
   "outputs": [],
   "source": [
    "df_week_count = df_week_joined.count()\n",
    "display(df_week_count)"
   ]
  },
  {
   "cell_type": "code",
   "execution_count": 0,
   "metadata": {
    "application/vnd.databricks.v1+cell": {
     "cellMetadata": {
      "byteLimit": 2048000,
      "rowLimit": 10000
     },
     "inputWidgets": {},
     "nuid": "86bafa8a-736c-430d-84af-7ca645dbee9a",
     "showTitle": false,
     "tableResultSettingsMap": {},
     "title": ""
    }
   },
   "outputs": [],
   "source": [
    "df_union_count = df_union.count()\n",
    "display(df_union_count)"
   ]
  },
  {
   "cell_type": "code",
   "execution_count": 0,
   "metadata": {
    "application/vnd.databricks.v1+cell": {
     "cellMetadata": {
      "byteLimit": 2048000,
      "rowLimit": 10000
     },
     "inputWidgets": {},
     "nuid": "46bb16d2-fb6c-4db3-b9de-e1c8867c5804",
     "showTitle": false,
     "tableResultSettingsMap": {},
     "title": ""
    }
   },
   "outputs": [],
   "source": [
    "df_dup_rm = df_union.dropDuplicates()\n",
    "df_dup_rm_count = df_dup_rm.count()\n",
    "display(df_dup_rm_count)"
   ]
  },
  {
   "cell_type": "code",
   "execution_count": 0,
   "metadata": {
    "application/vnd.databricks.v1+cell": {
     "cellMetadata": {
      "byteLimit": 2048000,
      "rowLimit": 10000
     },
     "inputWidgets": {},
     "nuid": "a8c5cf37-de5d-479c-b899-6d5128f03067",
     "showTitle": false,
     "tableResultSettingsMap": {},
     "title": ""
    }
   },
   "outputs": [],
   "source": [
    "df_union_select = df_union.select(\"product_code\", \"year\", \"month\", \"sales_amount\")\n",
    "\n",
    "df_union_group = df_union_select.groupBy(\"product_code\", \"year\", \"month\",\"sales_amount\").count().orderBy(\"product_code\",\"year\",\"month\")\n",
    "\n",
    "# display(df_union_group)"
   ]
  },
  {
   "cell_type": "markdown",
   "metadata": {
    "application/vnd.databricks.v1+cell": {
     "cellMetadata": {},
     "inputWidgets": {},
     "nuid": "3084413e-2ef7-45c6-8564-0a1727b3831b",
     "showTitle": false,
     "tableResultSettingsMap": {},
     "title": ""
    }
   },
   "source": [
    "**previous month sales amount**"
   ]
  },
  {
   "cell_type": "code",
   "execution_count": 0,
   "metadata": {
    "application/vnd.databricks.v1+cell": {
     "cellMetadata": {
      "byteLimit": 2048000,
      "rowLimit": 10000
     },
     "inputWidgets": {},
     "nuid": "851a99e3-08e0-4372-b9d7-90971be9f050",
     "showTitle": false,
     "tableResultSettingsMap": {},
     "title": ""
    }
   },
   "outputs": [],
   "source": [
    "window = (\n",
    "    Window.partitionBy(\"product_code\")\n",
    "    .orderBy(col(\"year\"), col(\"month\"))\n",
    "    .rowsBetween(Window.unboundedPreceding, Window.currentRow)\n",
    ")\n",
    "\n",
    "price_recent = df_union.withColumn(\"recent_sales_amount\",\n",
    "    last(\n",
    "        when(col(\"sales_amount\").isNotNull() & (col(\"sales_amount\") != 0), col(\"sales_amount\")),\n",
    "        ignorenulls=True\n",
    "    ).over(window)\n",
    ")\n",
    "\n",
    "# price_recent.display()"
   ]
  },
  {
   "cell_type": "code",
   "execution_count": 0,
   "metadata": {
    "application/vnd.databricks.v1+cell": {
     "cellMetadata": {
      "byteLimit": 2048000,
      "rowLimit": 10000
     },
     "inputWidgets": {},
     "nuid": "fdf03fbf-9e53-46f5-9345-7a69cef18750",
     "showTitle": false,
     "tableResultSettingsMap": {},
     "title": ""
    }
   },
   "outputs": [],
   "source": [
    "price_filled = price_recent.withColumn(\n",
    "    \"sales_amount_new\",\n",
    "    when(col(\"sales_amount\").isNull(), col(\"recent_sales_amount\"))\n",
    "    .when(col(\"sales_amount\") == 0, col(\"sales_amount\"))\n",
    "    .otherwise(col(\"sales_amount\"))\n",
    ")\n",
    "\n",
    "# display(price_filled)\n"
   ]
  },
  {
   "cell_type": "code",
   "execution_count": 0,
   "metadata": {
    "application/vnd.databricks.v1+cell": {
     "cellMetadata": {
      "byteLimit": 2048000,
      "rowLimit": 10000
     },
     "inputWidgets": {},
     "nuid": "b1ca1cef-1d53-45d6-92a0-1df21d3524ee",
     "showTitle": false,
     "tableResultSettingsMap": {},
     "title": ""
    }
   },
   "outputs": [],
   "source": [
    "df = price_filled.drop(\"recent_sales_amount\", \"sales_amount\",\"price_date\")\\\n",
    "                    .withColumnRenamed(\"sales_amount_new\", \"sales_amount\")\n",
    "# display(df)"
   ]
  },
  {
   "cell_type": "code",
   "execution_count": 0,
   "metadata": {
    "application/vnd.databricks.v1+cell": {
     "cellMetadata": {
      "byteLimit": 2048000,
      "rowLimit": 10000
     },
     "inputWidgets": {},
     "nuid": "f3df0fe3-cb8e-4aac-b1fd-6f2ace77044f",
     "showTitle": false,
     "tableResultSettingsMap": {},
     "title": ""
    }
   },
   "outputs": [],
   "source": [
    "price_filled.select(\"product_code\", \"year\", \"month\", \"sales_amount\", \"recent_sales_amount\", \"sales_amount_new\")\n",
    "\n",
    "df_sorted = price_filled.groupBy(\"product_code\", \"year\", \"month\",\"sales_amount\",\"recent_sales_amount\", \"sales_amount_new\").count().orderBy(\"product_code\",\"year\",\"month\")\n",
    "\n",
    "display(df_sorted )"
   ]
  },
  {
   "cell_type": "code",
   "execution_count": 0,
   "metadata": {
    "application/vnd.databricks.v1+cell": {
     "cellMetadata": {
      "byteLimit": 2048000,
      "rowLimit": 10000
     },
     "inputWidgets": {},
     "nuid": "1e0ddb1f-42d3-417d-bddb-eb5205bd11a7",
     "showTitle": false,
     "tableResultSettingsMap": {},
     "title": ""
    }
   },
   "outputs": [],
   "source": [
    "df.filter(col(\"product_code\") == \"BPK556360M\").display()"
   ]
  }
 ],
 "metadata": {
  "application/vnd.databricks.v1+notebook": {
   "computePreferences": null,
   "dashboards": [],
   "environmentMetadata": {
    "base_environment": "",
    "client": "1"
   },
   "language": "python",
   "notebookMetadata": {
    "pythonIndentUnit": 4
   },
   "notebookName": "invoice_mapping_final",
   "widgets": {}
  },
  "language_info": {
   "name": "python"
  }
 },
 "nbformat": 4,
 "nbformat_minor": 0
}
