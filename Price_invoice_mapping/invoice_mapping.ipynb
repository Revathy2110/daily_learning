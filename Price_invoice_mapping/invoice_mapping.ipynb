{
 "cells": [
  {
   "cell_type": "code",
   "execution_count": 0,
   "metadata": {
    "application/vnd.databricks.v1+cell": {
     "cellMetadata": {
      "byteLimit": 2048000,
      "rowLimit": 10000
     },
     "inputWidgets": {},
     "nuid": "08ef2a2c-f012-4d1e-b946-5ade53ea6b2d",
     "showTitle": false,
     "tableResultSettingsMap": {},
     "title": ""
    }
   },
   "outputs": [],
   "source": [
    "%run ./nz_schema"
   ]
  },
  {
   "cell_type": "code",
   "execution_count": 0,
   "metadata": {
    "application/vnd.databricks.v1+cell": {
     "cellMetadata": {
      "byteLimit": 2048000,
      "rowLimit": 10000
     },
     "inputWidgets": {},
     "nuid": "9f568c46-8f70-4a6f-9327-ca2fd0946721",
     "showTitle": true,
     "tableResultSettingsMap": {},
     "title": "Reading 2023 data"
    }
   },
   "outputs": [],
   "source": [
    "df_nz_2023 = spark.read.format(\"csv\") \\\n",
    "  .schema(schema) \\\n",
    "  .option(\"header\", \"true\") \\\n",
    "  .load(\"/FileStore/tables/newzealand_price_mapping.csv\")"
   ]
  },
  {
   "cell_type": "code",
   "execution_count": 0,
   "metadata": {
    "application/vnd.databricks.v1+cell": {
     "cellMetadata": {
      "byteLimit": 2048000,
      "rowLimit": 10000
     },
     "inputWidgets": {},
     "nuid": "36e67939-f751-45ad-9166-d3a04efa642f",
     "showTitle": true,
     "tableResultSettingsMap": {},
     "title": "Reading 2024 data"
    }
   },
   "outputs": [],
   "source": [
    "df_nz_2024 = spark.read.format(\"csv\") \\\n",
    "  .schema(schema) \\\n",
    "  .option(\"header\", \"true\") \\\n",
    "  .load(\"/FileStore/tables/Clone_newzealand_price_mapping_2024.csv\")"
   ]
  },
  {
   "cell_type": "code",
   "execution_count": 0,
   "metadata": {
    "application/vnd.databricks.v1+cell": {
     "cellMetadata": {
      "byteLimit": 2048000,
      "rowLimit": 10000
     },
     "inputWidgets": {},
     "nuid": "8a5c239c-2e5d-40f7-8c8b-0f4c6ca7c592",
     "showTitle": true,
     "tableResultSettingsMap": {},
     "title": "Combining 2023 & 2024"
    }
   },
   "outputs": [],
   "source": [
    "df_nz = df_nz_2023.union(df_nz_2024)"
   ]
  },
  {
   "cell_type": "code",
   "execution_count": 0,
   "metadata": {
    "application/vnd.databricks.v1+cell": {
     "cellMetadata": {
      "byteLimit": 2048000,
      "rowLimit": 10000
     },
     "inputWidgets": {},
     "nuid": "909ed2f1-1df6-4be5-b7d3-0d9395183bfd",
     "showTitle": true,
     "tableResultSettingsMap": {},
     "title": "Reading price mapping data"
    }
   },
   "outputs": [],
   "source": [
    "df_price= spark.read.format(\"csv\") \\\n",
    "  .option(\"inferSchema\", \"true\") \\\n",
    "  .option(\"header\", \"true\") \\\n",
    "  .load(\"/FileStore/tables/price_invoice_mapping.csv\")\n",
    "\n",
    "def rename_columns(df):\n",
    "    return df.toDF(*[col.lower().replace(\" \", \"_\") for col in df.columns])\n",
    "\n",
    "df_price = rename_columns(df_price)\n",
    "\n",
    "display(df_price)"
   ]
  },
  {
   "cell_type": "code",
   "execution_count": 0,
   "metadata": {
    "application/vnd.databricks.v1+cell": {
     "cellMetadata": {
      "byteLimit": 2048000,
      "rowLimit": 10000
     },
     "inputWidgets": {},
     "nuid": "bfdfbb75-0aa1-4e6a-9319-03488bfa22d1",
     "showTitle": true,
     "tableResultSettingsMap": {},
     "title": "Extracting data <= 2024-07-01"
    }
   },
   "outputs": [],
   "source": [
    "df_price_month = df_price.withColumn('year',split(df_price.start_of_month,'-').getItem(2))\\\n",
    "            .withColumn('month',split(df_price.start_of_month,'-').getItem(1))\\\n",
    "            .withColumn('day',split(df_price.start_of_month,'-').getItem(0)) \\\n",
    "            .withColumnRenamed('gross_price', 'sales_amount') \\\n",
    "            .withColumn('price_date', to_date(col('start_of_month'), 'dd-MM-yyyy')) \\\n",
    "            .select(\"product_code\", \"year\", \"month\", \"price_date\", \"sales_amount\")\n",
    "\n",
    "\n",
    "df_nz_month = df_nz.withColumn('date', to_date(col(\"date\"), \"dd-MM-yyyy\"))\\\n",
    "             .filter(col(\"date\") <= lit(\"2024-07-01\")) \\\n",
    "             .drop(\"store_id\", \"store_code\", \"sales_amount\", \"total_sales_amount\")\n",
    "\n",
    "df_month_joined = df_nz_month.join(df_price_month, [\"product_code\", \"year\", \"month\"], \"left\")\n",
    "\n",
    "# display(df_month_joined)"
   ]
  },
  {
   "cell_type": "code",
   "execution_count": 0,
   "metadata": {
    "application/vnd.databricks.v1+cell": {
     "cellMetadata": {
      "byteLimit": 2048000,
      "rowLimit": 10000
     },
     "inputWidgets": {},
     "nuid": "bf180de2-d5d7-442c-8b71-ecfce1786c5b",
     "showTitle": true,
     "tableResultSettingsMap": {},
     "title": "Extracting data > 2024-07-01"
    }
   },
   "outputs": [],
   "source": [
    "df_price_week = df_price.withColumn('year',split(df_price.start_of_week,'-').getItem(0))\\\n",
    "            .withColumn('month',split(df_price.start_of_week,'-').getItem(1))\\\n",
    "            .withColumn('day',split(df_price.start_of_week,'-').getItem(2)) \\\n",
    "            .withColumnRenamed('gross_price', 'sales_amount') \\\n",
    "            .withColumn('price_date', to_date(col('start_of_week'), 'yyyy-MM-dd')) \\\n",
    "            .select(\"product_code\", \"year\", \"month\", \"price_date\", \"sales_amount\")\n",
    "\n",
    "df_nz_week = df_nz.withColumn('date', to_date(col(\"date\"), \"dd-MM-yyyy\"))\\\n",
    "             .filter(col(\"date\") > lit(\"2024-07-01\")) \\\n",
    "             .drop(\"store_id\", \"store_code\", \"sales_amount\", \"total_sales_amount\")\n",
    "\n",
    "df_week_joined = df_nz_week.join(df_price_week, [\"product_code\", \"year\", \"month\"], \"left\")\n",
    "\n",
    "# display(df_week_joined)"
   ]
  },
  {
   "cell_type": "markdown",
   "metadata": {
    "application/vnd.databricks.v1+cell": {
     "cellMetadata": {},
     "inputWidgets": {},
     "nuid": "5584b2a0-f46b-4f10-9297-ddb11687be6f",
     "showTitle": false,
     "tableResultSettingsMap": {},
     "title": ""
    }
   },
   "source": [
    "**sales_amount <= 2024-07-01**"
   ]
  },
  {
   "cell_type": "code",
   "execution_count": 0,
   "metadata": {
    "application/vnd.databricks.v1+cell": {
     "cellMetadata": {
      "byteLimit": 2048000,
      "rowLimit": 10000
     },
     "inputWidgets": {},
     "nuid": "1182d465-889c-4b14-bd41-6c5ff97694c5",
     "showTitle": true,
     "tableResultSettingsMap": {},
     "title": "Getting recent sales_amount"
    }
   },
   "outputs": [],
   "source": [
    "window = (\n",
    "    Window.partitionBy(\"product_code\")\n",
    "    .orderBy(col(\"year\"), col(\"month\"))\n",
    "    .rowsBetween(Window.unboundedPreceding, Window.currentRow)\n",
    ")\n",
    "\n",
    "price_recent_month = df_month_joined.withColumn(\"recent_sales_amount\",\n",
    "    last(\n",
    "        when(col(\"sales_amount\").isNotNull() & (col(\"sales_amount\") != 0), col(\"sales_amount\")),\n",
    "        ignorenulls=True\n",
    "    ).over(window)\n",
    ")\n",
    "\n",
    "# price_recent_month.display()"
   ]
  },
  {
   "cell_type": "code",
   "execution_count": 0,
   "metadata": {
    "application/vnd.databricks.v1+cell": {
     "cellMetadata": {
      "byteLimit": 2048000,
      "rowLimit": 10000
     },
     "inputWidgets": {},
     "nuid": "365db063-df58-48cd-9734-64af573b7099",
     "showTitle": false,
     "tableResultSettingsMap": {},
     "title": ""
    }
   },
   "outputs": [],
   "source": [
    "price_filled_month = price_recent_month.withColumn(\n",
    "    \"sales_amount_new\",\n",
    "    when(col(\"sales_amount\").isNull(), col(\"recent_sales_amount\"))\n",
    "    .when(col(\"sales_amount\") == 0, col(\"sales_amount\"))\n",
    "    .otherwise(col(\"sales_amount\"))\n",
    ")\n",
    "\n",
    "# display(price_filled_month)\n"
   ]
  },
  {
   "cell_type": "code",
   "execution_count": 0,
   "metadata": {
    "application/vnd.databricks.v1+cell": {
     "cellMetadata": {
      "byteLimit": 2048000,
      "rowLimit": 10000
     },
     "inputWidgets": {},
     "nuid": "e04480ff-e7ae-480a-a63d-ed6441f6cf8c",
     "showTitle": false,
     "tableResultSettingsMap": {},
     "title": ""
    }
   },
   "outputs": [],
   "source": [
    "df_1 = price_filled_month.drop(\"recent_sales_amount\", \"sales_amount\",\"price_date\")\\\n",
    "                    .withColumnRenamed(\"sales_amount_new\", \"sales_amount\")\n",
    "# display(df_1)"
   ]
  },
  {
   "cell_type": "code",
   "execution_count": 0,
   "metadata": {
    "application/vnd.databricks.v1+cell": {
     "cellMetadata": {
      "byteLimit": 2048000,
      "rowLimit": 10000
     },
     "inputWidgets": {},
     "nuid": "dec78483-8675-45f7-bae6-d44c2b2eebad",
     "showTitle": false,
     "tableResultSettingsMap": {},
     "title": ""
    }
   },
   "outputs": [],
   "source": [
    "price_filled_month.select(\"product_code\", \"year\", \"month\", \"sales_amount\", \"recent_sales_amount\", \"sales_amount_new\")\n",
    "\n",
    "df_1_sorted = price_filled_month.groupBy(\"product_code\", \"year\", \"month\",\"sales_amount\",\"recent_sales_amount\", \"sales_amount_new\").count().orderBy(\"product_code\",\"year\",\"month\")\n",
    "\n",
    "# display(df_1_sorted )"
   ]
  },
  {
   "cell_type": "markdown",
   "metadata": {
    "application/vnd.databricks.v1+cell": {
     "cellMetadata": {},
     "inputWidgets": {},
     "nuid": "5392bbe9-eb8d-4315-a75b-bd02f84610fb",
     "showTitle": false,
     "tableResultSettingsMap": {},
     "title": ""
    }
   },
   "source": [
    "****sales_amount > 2024-07-01****"
   ]
  },
  {
   "cell_type": "code",
   "execution_count": 0,
   "metadata": {
    "application/vnd.databricks.v1+cell": {
     "cellMetadata": {
      "byteLimit": 2048000,
      "rowLimit": 10000
     },
     "inputWidgets": {},
     "nuid": "e7f7c16a-6474-4648-9dee-2739fdf3055c",
     "showTitle": false,
     "tableResultSettingsMap": {},
     "title": ""
    }
   },
   "outputs": [],
   "source": [
    "window = (\n",
    "    Window.partitionBy(\"product_code\")\n",
    "    .orderBy(col(\"year\"), col(\"month\"))\n",
    "    .rowsBetween(Window.unboundedPreceding, Window.currentRow)\n",
    ")\n",
    "\n",
    "price_recent_week = df_week_joined.withColumn(\"recent_sales_amount\",\n",
    "    last(\n",
    "        when(col(\"sales_amount\").isNotNull() & (col(\"sales_amount\") != 0), col(\"sales_amount\")),\n",
    "        ignorenulls=True\n",
    "    ).over(window)\n",
    ")\n",
    "\n",
    "# price_recent_week.display()"
   ]
  },
  {
   "cell_type": "code",
   "execution_count": 0,
   "metadata": {
    "application/vnd.databricks.v1+cell": {
     "cellMetadata": {
      "byteLimit": 2048000,
      "rowLimit": 10000
     },
     "inputWidgets": {},
     "nuid": "3a32fa3f-a4ff-4d17-90fb-5d6a0fb50ab7",
     "showTitle": false,
     "tableResultSettingsMap": {},
     "title": ""
    }
   },
   "outputs": [],
   "source": [
    "price_filled_week = price_recent_week.withColumn(\n",
    "    \"sales_amount_new\",\n",
    "    when(col(\"sales_amount\").isNull(), col(\"recent_sales_amount\"))\n",
    "    .when(col(\"sales_amount\") == 0, col(\"sales_amount\"))\n",
    "    .otherwise(col(\"sales_amount\"))\n",
    ")\n",
    "\n",
    "# display(price_filled_week)\n"
   ]
  },
  {
   "cell_type": "code",
   "execution_count": 0,
   "metadata": {
    "application/vnd.databricks.v1+cell": {
     "cellMetadata": {
      "byteLimit": 2048000,
      "rowLimit": 10000
     },
     "inputWidgets": {},
     "nuid": "203f950d-bb2a-44d4-a7b7-56e40eaf5b53",
     "showTitle": false,
     "tableResultSettingsMap": {},
     "title": ""
    }
   },
   "outputs": [],
   "source": [
    "df_2 = price_filled_week.drop(\"recent_sales_amount\", \"sales_amount\",\"price_date\")\\\n",
    "                    .withColumnRenamed(\"sales_amount_new\", \"sales_amount\")\n",
    "# display(df_2)"
   ]
  },
  {
   "cell_type": "code",
   "execution_count": 0,
   "metadata": {
    "application/vnd.databricks.v1+cell": {
     "cellMetadata": {
      "byteLimit": 2048000,
      "rowLimit": 10000
     },
     "inputWidgets": {},
     "nuid": "69b121c3-aced-4c30-9c7e-165f8c912f4f",
     "showTitle": false,
     "tableResultSettingsMap": {},
     "title": ""
    }
   },
   "outputs": [],
   "source": [
    "price_filled_week.select(\"product_code\", \"year\", \"month\", \"sales_amount\", \"recent_sales_amount\", \"sales_amount_new\")\n",
    "\n",
    "df_2_sorted  = price_filled_week.groupBy(\"product_code\", \"year\", \"month\",\"sales_amount\",\"recent_sales_amount\", \"sales_amount_new\").count().orderBy(\"product_code\",\"year\",\"month\")\n",
    "\n",
    "# display(df_2_sorted)"
   ]
  }
 ],
 "metadata": {
  "application/vnd.databricks.v1+notebook": {
   "computePreferences": null,
   "dashboards": [],
   "environmentMetadata": {
    "base_environment": "",
    "client": "1"
   },
   "language": "python",
   "notebookMetadata": {
    "pythonIndentUnit": 4
   },
   "notebookName": "invoice_mapping",
   "widgets": {}
  },
  "language_info": {
   "name": "python"
  }
 },
 "nbformat": 4,
 "nbformat_minor": 0
}
