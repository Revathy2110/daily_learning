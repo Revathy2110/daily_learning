{
 "cells": [
  {
   "cell_type": "code",
   "execution_count": 0,
   "metadata": {
    "application/vnd.databricks.v1+cell": {
     "cellMetadata": {
      "byteLimit": 2048000,
      "rowLimit": 10000
     },
     "inputWidgets": {},
     "nuid": "bb387b9f-5254-4d82-b6b4-8ee849873ac3",
     "showTitle": false,
     "tableResultSettingsMap": {},
     "title": ""
    }
   },
   "outputs": [],
   "source": [
    "from pyspark.sql.types import *\n",
    "from pyspark.sql.functions import *\n",
    "from pyspark.sql.window import Window"
   ]
  },
  {
   "cell_type": "code",
   "execution_count": 0,
   "metadata": {
    "application/vnd.databricks.v1+cell": {
     "cellMetadata": {
      "byteLimit": 2048000,
      "rowLimit": 10000
     },
     "inputWidgets": {},
     "nuid": "6bdef3a5-4999-4887-af6e-380cbf224e99",
     "showTitle": false,
     "tableResultSettingsMap": {},
     "title": ""
    }
   },
   "outputs": [],
   "source": [
    "schema = StructType([\n",
    "    StructField(\"department\", StringType(), True),\n",
    "    StructField(\"product_code\", StringType(), True),\n",
    "    StructField(\"product_description\", StringType(), True),\n",
    "    StructField(\"brand\", StringType(), True),\n",
    "    StructField(\"total_stock_on_hand\", IntegerType(), True),\n",
    "    StructField(\"total_sales\", IntegerType(), True),\n",
    "    StructField(\"total_sales_mtd\", IntegerType(), True),\n",
    "    StructField(\"store_name\", StringType(), True),\n",
    "    StructField(\"sales_qty\", IntegerType(), True),\n",
    "    StructField(\"country\", StringType(), True),\n",
    "    StructField(\"key_account\", StringType(), True),\n",
    "    StructField(\"date\", StringType(), True),  \n",
    "    StructField(\"year\", IntegerType(), True),\n",
    "    StructField(\"month\", IntegerType(), True),\n",
    "    StructField(\"day\", IntegerType(), True),\n",
    "    StructField(\"week\", IntegerType(), True),\n",
    "    StructField(\"load_date\", TimestampType(), True),\n",
    "    StructField(\"store_id\", StringType(), True),\n",
    "    StructField(\"store_code\", StringType(), True),\n",
    "    StructField(\"sales_amount\", DoubleType(), True),\n",
    "    StructField(\"total_sales_amount\", DoubleType(), True)\n",
    "])\n"
   ]
  }
 ],
 "metadata": {
  "application/vnd.databricks.v1+notebook": {
   "computePreferences": null,
   "dashboards": [],
   "environmentMetadata": {
    "base_environment": "",
    "client": "1"
   },
   "language": "python",
   "notebookMetadata": {
    "pythonIndentUnit": 4
   },
   "notebookName": "nz_schema",
   "widgets": {}
  },
  "language_info": {
   "name": "python"
  }
 },
 "nbformat": 4,
 "nbformat_minor": 0
}
