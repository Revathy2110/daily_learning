{
 "cells": [
  {
   "cell_type": "code",
   "execution_count": 0,
   "metadata": {
    "application/vnd.databricks.v1+cell": {
     "cellMetadata": {
      "byteLimit": 2048000,
      "rowLimit": 10000
     },
     "inputWidgets": {},
     "nuid": "313dc290-b9f2-475f-9c3d-11d9cbeda1d0",
     "showTitle": false,
     "tableResultSettingsMap": {},
     "title": ""
    }
   },
   "outputs": [],
   "source": [
    "%run ./nz_schema"
   ]
  },
  {
   "cell_type": "code",
   "execution_count": 0,
   "metadata": {
    "application/vnd.databricks.v1+cell": {
     "cellMetadata": {
      "byteLimit": 2048000,
      "rowLimit": 10000
     },
     "inputWidgets": {},
     "nuid": "51ad2b13-ea88-488b-9a0f-af76b5af50db",
     "showTitle": false,
     "tableResultSettingsMap": {},
     "title": ""
    }
   },
   "outputs": [],
   "source": [
    "df_nz_2023 = spark.read.format(\"csv\") \\\n",
    "  .schema(schema) \\\n",
    "  .option(\"header\", \"true\") \\\n",
    "  .load(\"/FileStore/tables/newzealand_price_mapping.csv\")"
   ]
  },
  {
   "cell_type": "code",
   "execution_count": 0,
   "metadata": {
    "application/vnd.databricks.v1+cell": {
     "cellMetadata": {
      "byteLimit": 2048000,
      "rowLimit": 10000
     },
     "inputWidgets": {},
     "nuid": "4e947692-61f3-4d07-a4a7-8463ffc80888",
     "showTitle": false,
     "tableResultSettingsMap": {},
     "title": ""
    }
   },
   "outputs": [],
   "source": [
    "df_nz_2024 = spark.read.format(\"csv\") \\\n",
    "  .schema(schema) \\\n",
    "  .option(\"header\", \"true\") \\\n",
    "  .load(\"/FileStore/tables/Clone_newzealand_price_mapping_2024.csv\")"
   ]
  },
  {
   "cell_type": "code",
   "execution_count": 0,
   "metadata": {
    "application/vnd.databricks.v1+cell": {
     "cellMetadata": {
      "byteLimit": 2048000,
      "rowLimit": 10000
     },
     "inputWidgets": {},
     "nuid": "d35f254d-52ef-49cb-8335-8d35e5d2a0ec",
     "showTitle": false,
     "tableResultSettingsMap": {},
     "title": ""
    }
   },
   "outputs": [],
   "source": [
    "df_nz = df_nz_2023.unionByName(df_nz_2024)\n",
    "\n",
    "df_nz = df_nz.withColumn('date', to_date(col('date'), 'dd-MM-yyyy')) \n",
    "\n",
    "# display(df_nz)"
   ]
  },
  {
   "cell_type": "code",
   "execution_count": 0,
   "metadata": {
    "application/vnd.databricks.v1+cell": {
     "cellMetadata": {
      "byteLimit": 2048000,
      "rowLimit": 10000
     },
     "inputWidgets": {},
     "nuid": "82f8691e-0d62-4bef-be7b-d84890928892",
     "showTitle": false,
     "tableResultSettingsMap": {},
     "title": ""
    }
   },
   "outputs": [],
   "source": [
    "df_price= spark.read.format(\"csv\") \\\n",
    "  .option(\"inferSchema\", \"true\") \\\n",
    "  .option(\"header\", \"true\") \\\n",
    "  .load(\"/FileStore/tables/price_invoice_mapping.csv\")\n",
    "\n",
    "def rename_columns(df):\n",
    "    return df.toDF(*[col.lower().replace(\" \", \"_\") for col in df.columns])\n",
    "\n",
    "df_price = rename_columns(df_price)\n",
    "\n",
    "df_price = df_price.filter(col(\"product_code\").isNotNull()) \\\n",
    "                    .filter(col(\"product_code\") != \"#\") \\\n",
    "                    .dropDuplicates()\n",
    "\n",
    "# display(df_price)"
   ]
  },
  {
   "cell_type": "code",
   "execution_count": 0,
   "metadata": {
    "application/vnd.databricks.v1+cell": {
     "cellMetadata": {
      "byteLimit": 2048000,
      "rowLimit": 10000
     },
     "inputWidgets": {},
     "nuid": "2405348c-61ef-47e5-8bc1-b14fe05ef578",
     "showTitle": false,
     "tableResultSettingsMap": {},
     "title": ""
    }
   },
   "outputs": [],
   "source": [
    "df_price_month = df_price.withColumn('year',split(df_price.start_of_month,'-').getItem(2))\\\n",
    "            .withColumn('month',split(df_price.start_of_month,'-').getItem(1))\\\n",
    "            .withColumn('day',split(df_price.start_of_month,'-').getItem(0)) \\\n",
    "            .withColumnRenamed('gross_price', 'sales_amount') \\\n",
    "            .withColumn('price_date', to_date(concat_ws(\"-\", col(\"year\"), col(\"month\"), col(\"day\")), \"yyyy-MM-dd\")) \\\n",
    "            .select(\"product_code\", \"year\", \"month\", \"price_date\", \"sales_amount\")\n",
    "\n",
    "\n",
    "df_nz_month = df_nz.withColumn('date', to_date(col(\"date\"), \"dd-MM-yyyy\"))\\\n",
    "             .filter(col(\"date\") <= lit(\"2024-07-01\")) \\\n",
    "             .drop(\"store_id\", \"store_code\",\"sales_amount\",\"total_sales_amount\")\n",
    "\n",
    "df_month_joined = df_nz_month.join(df_price_month, [\"product_code\", \"year\", \"month\"], \"left\") \\\n",
    "                    .dropDuplicates()\n",
    "\n",
    "# display(df_month_joined)"
   ]
  },
  {
   "cell_type": "code",
   "execution_count": 0,
   "metadata": {
    "application/vnd.databricks.v1+cell": {
     "cellMetadata": {
      "byteLimit": 2048000,
      "rowLimit": 10000
     },
     "inputWidgets": {},
     "nuid": "59248a2e-7a89-4b93-a123-78c4ac620728",
     "showTitle": false,
     "tableResultSettingsMap": {},
     "title": ""
    }
   },
   "outputs": [],
   "source": [
    "df_price_week_1 = df_price.withColumn('year',split(df_price.start_of_week,'-').getItem(0))\\\n",
    "            .withColumn('month',split(df_price.start_of_week,'-').getItem(1))\\\n",
    "            .withColumn('day',split(df_price.start_of_week,'-').getItem(2)) \\\n",
    "            .withColumn('price_week', to_date(concat_ws(\"-\", col(\"year\"), col(\"month\"), col(\"day\")), \"yyyy-MM-dd\")) \\\n",
    "            .withColumn('year_m',split(df_price.start_of_month,'-').getItem(2))\\\n",
    "            .withColumn('month_m',split(df_price.start_of_month,'-').getItem(1))\\\n",
    "            .withColumn('day_m',split(df_price.start_of_month,'-').getItem(0)) \\\n",
    "            .withColumn('price_month', to_date(concat_ws(\"-\",col(\"year_m\"), col(\"month_m\"), col(\"day_m\")), \"yyyy-MM-dd\")) \\\n",
    "\n",
    "df_price_week_2 = df_price_week_1.withColumnRenamed('gross_price', 'sales_amount') \\\n",
    "                    .withColumn(\"price_date\", when(col(\"price_week\").isNotNull(), col(\"price_week\")) \n",
    "                    .otherwise(col(\"price_month\")))\n",
    "            \n",
    "\n",
    "df_price_week = df_price_week_2.withColumn('year', split(col('price_date'), '-').getItem(0)) \\\n",
    "                            .withColumn('month', split(col('price_date'), '-').getItem(1)) \\\n",
    "                            .withColumn(\"week\", weekofyear(col(\"price_date\"))) \\\n",
    "                            .select(\"product_code\", \"year\", \"month\", \"week\", \"price_date\", \"sales_amount\")\n",
    "\n",
    "df_nz_week = df_nz.withColumn('date', to_date(col(\"date\"), \"dd-MM-yyyy\"))\\\n",
    "             .filter(col(\"date\") > lit(\"2024-07-01\")) \\\n",
    "             .drop(\"store_id\", \"store_code\", \"sales_amount\", \"total_sales_amount\")\n",
    "\n",
    "df_week_joined = df_nz_week.join(df_price_week, [\"product_code\", \"year\", \"month\",\"week\"], \"left\")\n",
    "\n",
    "# display(df_week_joined)"
   ]
  },
  {
   "cell_type": "code",
   "execution_count": 0,
   "metadata": {
    "application/vnd.databricks.v1+cell": {
     "cellMetadata": {
      "byteLimit": 2048000,
      "rowLimit": 10000
     },
     "inputWidgets": {},
     "nuid": "eb2064ad-8872-418e-8d0c-467a8d525d20",
     "showTitle": false,
     "tableResultSettingsMap": {},
     "title": ""
    }
   },
   "outputs": [],
   "source": [
    "def process_sales_data(df_joined):\n",
    "\n",
    "    window = (\n",
    "        Window.partitionBy(\"product_code\")\n",
    "        .orderBy(col(\"year\"), col(\"month\"))\n",
    "        .rowsBetween(Window.unboundedPreceding, Window.currentRow)\n",
    "    )\n",
    "   \n",
    "    price_recent= df_joined.withColumn(\n",
    "        \"recent_sales_amount\",\n",
    "        last(\n",
    "            when(\n",
    "                col(\"sales_amount\").isNotNull() & (col(\"sales_amount\") != 0), col(\"sales_amount\")\n",
    "            ),\n",
    "            ignorenulls=True\n",
    "        ).over(window)\n",
    "    )\n",
    "\n",
    "    price_filled = price_recent.withColumn(\n",
    "        \"sales_amount_new\",\n",
    "        when(col(\"sales_amount\").isNull(), col(\"recent_sales_amount\"))\n",
    "        .when(col(\"sales_amount\") == 0, col(\"sales_amount\"))\n",
    "        .otherwise(col(\"sales_amount\"))\n",
    "    )\n",
    "\n",
    "    df_cleaned = price_filled.drop(\"recent_sales_amount\", \"sales_amount\", \"price_date\") \\\n",
    "                                   .withColumnRenamed(\"sales_amount_new\", \"sales_amount\")\n",
    "\n",
    "    return df_cleaned\n"
   ]
  },
  {
   "cell_type": "markdown",
   "metadata": {
    "application/vnd.databricks.v1+cell": {
     "cellMetadata": {
      "byteLimit": 2048000,
      "rowLimit": 10000
     },
     "inputWidgets": {},
     "nuid": "b055f6a3-e2cf-4569-9189-e8101725785f",
     "showTitle": false,
     "tableResultSettingsMap": {},
     "title": ""
    }
   },
   "source": [
    "**sales_amount <= 2024-07-01**"
   ]
  },
  {
   "cell_type": "code",
   "execution_count": 0,
   "metadata": {
    "application/vnd.databricks.v1+cell": {
     "cellMetadata": {
      "byteLimit": 2048000,
      "rowLimit": 10000
     },
     "inputWidgets": {},
     "nuid": "6ca9ff76-c2ef-4c10-8edd-9378b1ed9426",
     "showTitle": false,
     "tableResultSettingsMap": {},
     "title": ""
    }
   },
   "outputs": [],
   "source": [
    "# Calling the function\n",
    "df_1 = process_sales_data(df_month_joined)\n",
    "\n",
    "# display(df_1)\n"
   ]
  },
  {
   "cell_type": "code",
   "execution_count": 0,
   "metadata": {
    "application/vnd.databricks.v1+cell": {
     "cellMetadata": {
      "byteLimit": 2048000,
      "rowLimit": 10000
     },
     "inputWidgets": {},
     "nuid": "6e598710-f2c8-40ce-b6c9-dc6004fa51ea",
     "showTitle": false,
     "tableResultSettingsMap": {},
     "title": ""
    }
   },
   "outputs": [],
   "source": [
    "df_1 = df_1.count()\n",
    "display(df_1)"
   ]
  },
  {
   "cell_type": "markdown",
   "metadata": {
    "application/vnd.databricks.v1+cell": {
     "cellMetadata": {
      "byteLimit": 2048000,
      "rowLimit": 10000
     },
     "inputWidgets": {},
     "nuid": "4ef68061-a100-41b5-9556-fd9f6785a8b3",
     "showTitle": false,
     "tableResultSettingsMap": {},
     "title": ""
    }
   },
   "source": [
    "**sales_amount > 2024-07-01**"
   ]
  },
  {
   "cell_type": "code",
   "execution_count": 0,
   "metadata": {
    "application/vnd.databricks.v1+cell": {
     "cellMetadata": {
      "byteLimit": 2048000,
      "rowLimit": 10000
     },
     "inputWidgets": {},
     "nuid": "0d172d6a-1cf2-492f-b422-fc44e06a5783",
     "showTitle": false,
     "tableResultSettingsMap": {},
     "title": ""
    }
   },
   "outputs": [],
   "source": [
    "# Calling the function\n",
    "df_2 = process_sales_data(df_week_joined)\n",
    "\n",
    "# display(df_2)"
   ]
  },
  {
   "cell_type": "code",
   "execution_count": 0,
   "metadata": {
    "application/vnd.databricks.v1+cell": {
     "cellMetadata": {
      "byteLimit": 2048000,
      "rowLimit": 10000
     },
     "inputWidgets": {},
     "nuid": "80ae42a4-68be-4986-8c95-2eb9619b27a8",
     "showTitle": false,
     "tableResultSettingsMap": {},
     "title": ""
    }
   },
   "outputs": [],
   "source": [
    "df_2 = df_2.count()\n",
    "display(df_2)"
   ]
  },
  {
   "cell_type": "markdown",
   "metadata": {
    "application/vnd.databricks.v1+cell": {
     "cellMetadata": {
      "byteLimit": 2048000,
      "rowLimit": 10000
     },
     "inputWidgets": {},
     "nuid": "3f574be8-5a89-47fb-8607-11b138b6277e",
     "showTitle": false,
     "tableResultSettingsMap": {},
     "title": ""
    }
   },
   "source": [
    "**Final sales_amount**"
   ]
  },
  {
   "cell_type": "code",
   "execution_count": 0,
   "metadata": {
    "application/vnd.databricks.v1+cell": {
     "cellMetadata": {
      "byteLimit": 2048000,
      "rowLimit": 10000
     },
     "inputWidgets": {},
     "nuid": "90ab8578-f483-4927-b58b-ee5a12bb24d1",
     "showTitle": false,
     "tableResultSettingsMap": {},
     "title": ""
    }
   },
   "outputs": [],
   "source": [
    "df_union = df_1.unionByName(df_2)\n",
    "# display(df_union)"
   ]
  },
  {
   "cell_type": "code",
   "execution_count": 0,
   "metadata": {
    "application/vnd.databricks.v1+cell": {
     "cellMetadata": {
      "byteLimit": 2048000,
      "rowLimit": 10000
     },
     "inputWidgets": {},
     "nuid": "837a5470-6165-4fac-b929-28cda0f0f9d5",
     "showTitle": false,
     "tableResultSettingsMap": {},
     "title": ""
    }
   },
   "outputs": [],
   "source": [
    "# Calling the function\n",
    "df = process_sales_data(df_union)\n",
    "\n",
    "df = df.filter(col(\"sales_amount\").isNotNull())\n",
    "\n",
    "# display(df)"
   ]
  },
  {
   "cell_type": "code",
   "execution_count": 0,
   "metadata": {
    "application/vnd.databricks.v1+cell": {
     "cellMetadata": {
      "byteLimit": 2048000,
      "rowLimit": 10000
     },
     "inputWidgets": {},
     "nuid": "1d815299-c51f-47c1-92be-fa8aea8f269d",
     "showTitle": false,
     "tableResultSettingsMap": {},
     "title": ""
    }
   },
   "outputs": [],
   "source": [
    "df = df.count()\n",
    "display(df)"
   ]
  }
 ],
 "metadata": {
  "application/vnd.databricks.v1+notebook": {
   "computePreferences": null,
   "dashboards": [],
   "environmentMetadata": {
    "base_environment": "",
    "client": "1"
   },
   "language": "python",
   "notebookMetadata": {
    "pythonIndentUnit": 4
   },
   "notebookName": "price_mapping",
   "widgets": {}
  },
  "language_info": {
   "name": "python"
  }
 },
 "nbformat": 4,
 "nbformat_minor": 0
}
